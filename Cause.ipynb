{
  "metadata": {
    "language_info": {
      "codemirror_mode": {
        "name": "ipython",
        "version": 3
      },
      "file_extension": ".py",
      "mimetype": "text/x-python",
      "name": "python",
      "nbconvert_exporter": "python",
      "pygments_lexer": "ipython3",
      "version": "3.7.9"
    },
    "orig_nbformat": 4,
    "kernelspec": {
      "name": "python3",
      "display_name": "Python 3.7.9 64-bit"
    },
    "interpreter": {
      "hash": "7f8c79caef6f500d10f1d53b5233fd35aa3fbbd3a39d10048919692e9c705d27"
    },
    "colab": {
      "provenance": []
    }
  },
  "nbformat": 4,
  "nbformat_minor": 0,
  "cells": [
    {
      "cell_type": "code",
      "source": [
        "!pip install scikit-learn-intelex"
      ],
      "metadata": {
        "colab": {
          "base_uri": "https://localhost:8080/"
        },
        "id": "MMNVhZm-f794",
        "outputId": "e9b4331b-4297-4fbc-d9ed-1f6d1e142063"
      },
      "execution_count": 1,
      "outputs": [
        {
          "output_type": "stream",
          "name": "stdout",
          "text": [
            "Collecting scikit-learn-intelex\n",
            "  Downloading scikit_learn_intelex-2024.1.0-py310-none-manylinux1_x86_64.whl (131 kB)\n",
            "\u001b[2K     \u001b[90m━━━━━━━━━━━━━━━━━━━━━━━━━━━━━━━━━━━━━━━━\u001b[0m \u001b[32m131.8/131.8 kB\u001b[0m \u001b[31m4.0 MB/s\u001b[0m eta \u001b[36m0:00:00\u001b[0m\n",
            "\u001b[?25hCollecting daal4py==2024.1.0 (from scikit-learn-intelex)\n",
            "  Downloading daal4py-2024.1.0-py310-none-manylinux1_x86_64.whl (10.1 MB)\n",
            "\u001b[2K     \u001b[90m━━━━━━━━━━━━━━━━━━━━━━━━━━━━━━━━━━━━━━━━\u001b[0m \u001b[32m10.1/10.1 MB\u001b[0m \u001b[31m25.8 MB/s\u001b[0m eta \u001b[36m0:00:00\u001b[0m\n",
            "\u001b[?25hRequirement already satisfied: scikit-learn>=0.22 in /usr/local/lib/python3.10/dist-packages (from scikit-learn-intelex) (1.2.2)\n",
            "Collecting daal==2024.1.0 (from daal4py==2024.1.0->scikit-learn-intelex)\n",
            "  Downloading daal-2024.1.0-py2.py3-none-manylinux1_x86_64.whl (75.3 MB)\n",
            "\u001b[2K     \u001b[90m━━━━━━━━━━━━━━━━━━━━━━━━━━━━━━━━━━━━━━━━\u001b[0m \u001b[32m75.3/75.3 MB\u001b[0m \u001b[31m11.3 MB/s\u001b[0m eta \u001b[36m0:00:00\u001b[0m\n",
            "\u001b[?25hRequirement already satisfied: numpy>=1.19 in /usr/local/lib/python3.10/dist-packages (from daal4py==2024.1.0->scikit-learn-intelex) (1.23.5)\n",
            "Requirement already satisfied: tbb==2021.* in /usr/local/lib/python3.10/dist-packages (from daal==2024.1.0->daal4py==2024.1.0->scikit-learn-intelex) (2021.11.0)\n",
            "Requirement already satisfied: scipy>=1.3.2 in /usr/local/lib/python3.10/dist-packages (from scikit-learn>=0.22->scikit-learn-intelex) (1.11.4)\n",
            "Requirement already satisfied: joblib>=1.1.1 in /usr/local/lib/python3.10/dist-packages (from scikit-learn>=0.22->scikit-learn-intelex) (1.3.2)\n",
            "Requirement already satisfied: threadpoolctl>=2.0.0 in /usr/local/lib/python3.10/dist-packages (from scikit-learn>=0.22->scikit-learn-intelex) (3.2.0)\n",
            "Installing collected packages: daal, daal4py, scikit-learn-intelex\n",
            "Successfully installed daal-2024.1.0 daal4py-2024.1.0 scikit-learn-intelex-2024.1.0\n"
          ]
        }
      ]
    },
    {
      "cell_type": "code",
      "source": [
        "from sklearnex import patch_sklearn\n",
        "patch_sklearn()"
      ],
      "metadata": {
        "colab": {
          "base_uri": "https://localhost:8080/"
        },
        "id": "ORUD6q8xgBNI",
        "outputId": "b54cac2b-fcdc-4a35-eb6d-39182e54a4bb"
      },
      "execution_count": 2,
      "outputs": [
        {
          "output_type": "stream",
          "name": "stderr",
          "text": [
            "Intel(R) Extension for Scikit-learn* enabled (https://github.com/intel/scikit-learn-intelex)\n"
          ]
        }
      ]
    },
    {
      "source": [
        "**Imports**"
      ],
      "cell_type": "markdown",
      "metadata": {
        "id": "6CAzfwhQHBFu"
      }
    },
    {
      "cell_type": "code",
      "execution_count": null,
      "metadata": {
        "id": "c2xzpwfXHBFx"
      },
      "outputs": [],
      "source": [
        "import pandas as pd\n",
        "import numpy as np\n",
        "from keras.models import Sequential\n",
        "from keras.layers import Dense"
      ]
    },
    {
      "source": [
        "**Pre-Processing**"
      ],
      "cell_type": "markdown",
      "metadata": {
        "id": "wNr_Z6tXHBFy"
      }
    },
    {
      "cell_type": "code",
      "execution_count": null,
      "metadata": {
        "id": "oFEoAMYAHBFz"
      },
      "outputs": [],
      "source": [
        "data = pd.read_csv('../data/WildfireData.csv')\n",
        "data.head()"
      ]
    },
    {
      "cell_type": "code",
      "execution_count": null,
      "metadata": {
        "id": "m_-oywyPHBFz"
      },
      "outputs": [],
      "source": [
        "data = data[['fire_size', 'remoteness', 'putout_time', 'stat_cause_descr']]\n",
        "data.head()"
      ]
    },
    {
      "cell_type": "code",
      "execution_count": null,
      "metadata": {
        "id": "GDfNLQQ2HBFz"
      },
      "outputs": [],
      "source": [
        "data = data.dropna()\n",
        "data['putout_time'] = data['putout_time'].str.split(' ').str[0]\n",
        "data.head()"
      ]
    },
    {
      "cell_type": "code",
      "execution_count": null,
      "metadata": {
        "id": "pICTwIFNHBF0"
      },
      "outputs": [],
      "source": [
        "data.stat_cause_descr.unique()"
      ]
    },
    {
      "cell_type": "code",
      "execution_count": null,
      "metadata": {
        "id": "MuqiN4cFHBF0"
      },
      "outputs": [],
      "source": [
        "data['stat_cause_descr'] = data['stat_cause_descr'].map({\n",
        "    'Debris Burning': 0,\n",
        "    'Arson': 1,\n",
        "    'Lightning': 2,\n",
        "    'Equipment Use': 3,\n",
        "    'Campfire': 4,\n",
        "    'Structure': 5,\n",
        "    'Children': 5,\n",
        "    'Smoking': 5,\n",
        "    'Powerline': 5,\n",
        "    'Railroad': 5,\n",
        "    'Fireworks': 5,\n",
        "    'Missing/Undefined': 5,\n",
        "    'Miscellaneous': 5\n",
        "})\n",
        "data.stat_cause_descr.unique()\n",
        "data.head()"
      ]
    },
    {
      "cell_type": "code",
      "execution_count": null,
      "metadata": {
        "id": "azn0tKFoHBF0"
      },
      "outputs": [],
      "source": [
        "from sklearn.model_selection import train_test_split\n",
        "X = data.drop('stat_cause_descr', axis=1).astype('float')\n",
        "y = data.stat_cause_descr.astype('float')\n",
        "print(X.head())\n",
        "print(y.head())\n",
        "X_train, X_test, y_train, y_test = train_test_split(X, y, test_size=0.1)"
      ]
    },
    {
      "cell_type": "code",
      "execution_count": null,
      "metadata": {
        "id": "P00RtKjmHBF1"
      },
      "outputs": [],
      "source": [
        "from tensorflow.keras.utils import to_categorical\n",
        "y_train = to_categorical(y_train)\n",
        "y_test = to_categorical(y_test)"
      ]
    },
    {
      "cell_type": "code",
      "execution_count": null,
      "metadata": {
        "id": "o0ifN0yuHBF1"
      },
      "outputs": [],
      "source": [
        " y_test[0]"
      ]
    },
    {
      "cell_type": "code",
      "source": [
        "import seaborn as sns\n",
        "sns.heatmap(df.corr(),annot=True)"
      ],
      "metadata": {
        "id": "39w9_UAOgK9G"
      },
      "execution_count": null,
      "outputs": []
    },
    {
      "source": [
        "**NN Model**"
      ],
      "cell_type": "markdown",
      "metadata": {
        "id": "jLLBdlu1HBF1"
      }
    },
    {
      "cell_type": "code",
      "source": [
        "! pip install onednn"
      ],
      "metadata": {
        "id": "BtFxpznDk-yl"
      },
      "execution_count": null,
      "outputs": []
    },
    {
      "cell_type": "code",
      "execution_count": null,
      "metadata": {
        "id": "rSd4wXTKHBF1"
      },
      "outputs": [],
      "source": [
        "model = Sequential()\n",
        "model.add(Dense(32, input_dim=(3), activation='relu'))\n",
        "model.add(Dense(16, activation='relu'))\n",
        "model.add(Dense(8, activation='relu'))\n",
        "model.add(Dense(6, activation='softmax'))"
      ]
    },
    {
      "cell_type": "code",
      "execution_count": null,
      "metadata": {
        "id": "txlynQ4tHBF2"
      },
      "outputs": [],
      "source": [
        "model.compile(loss='categorical_crossentropy', optimizer='adam', metrics=['accuracy'])"
      ]
    },
    {
      "cell_type": "code",
      "execution_count": null,
      "metadata": {
        "id": "1Orsnc-_HBF2"
      },
      "outputs": [],
      "source": [
        "model.fit(X_train, y_train, validation_data=(X_test, y_test), epochs=100, batch_size=64, verbose=1)"
      ]
    },
    {
      "cell_type": "code",
      "execution_count": null,
      "metadata": {
        "id": "CVsBBBZBHBF2"
      },
      "outputs": [],
      "source": [
        "# test model\n",
        "test_data = {\n",
        "    'fire_size': [37.0],\n",
        "    'remoteness': [0.191923],\n",
        "    'putout_time': [0]\n",
        "}\n",
        "test_data = pd.DataFrame(test_data)\n",
        "test_data"
      ]
    },
    {
      "cell_type": "code",
      "execution_count": null,
      "metadata": {
        "id": "utqQjMvWHBF2"
      },
      "outputs": [],
      "source": [
        "result = model.predict(test_data)\n",
        "result"
      ]
    },
    {
      "cell_type": "code",
      "execution_count": null,
      "metadata": {
        "id": "kF3KuvzbHBF2"
      },
      "outputs": [],
      "source": [
        "# find class\n",
        "final = 0\n",
        "for i in range(6):\n",
        "    if (result[0][i] > final):\n",
        "        final = result[0][i]\n",
        "    # print(final)\n",
        "final = np.where(result[0] == final)\n",
        "print(final[0][0])\n",
        ""
      ]
    },
    {
      "cell_type": "code",
      "execution_count": null,
      "metadata": {
        "id": "ptChksRZHBF2"
      },
      "outputs": [],
      "source": [
        "# save model\n",
        "model.save(\"../Weights/cause.h5\")"
      ]
    },
    {
      "cell_type": "code",
      "execution_count": null,
      "metadata": {
        "id": "3VvVQqwtHBF3"
      },
      "outputs": [],
      "source": [
        "# add cause to predicted fires dataset\n",
        "predicted_data = pd.read_csv('../data/PredictedData.csv')"
      ]
    },
    {
      "cell_type": "code",
      "execution_count": null,
      "metadata": {
        "id": "7qojCOjOHBF3"
      },
      "outputs": [],
      "source": [
        "predicted_data = predicted_data.dropna()\n",
        "predicted_data['putout_time'] = predicted_data['putout_time'].str.split(' ').str[0]\n",
        "test_data = predicted_data[['fire_size', 'remoteness', 'putout_time']].astype('float')\n",
        "results = model.predict(test_data)"
      ]
    },
    {
      "source": [
        "**XGBoost Classifier**"
      ],
      "cell_type": "markdown",
      "metadata": {
        "id": "u_yeULI2HBF3"
      }
    },
    {
      "cell_type": "code",
      "execution_count": null,
      "metadata": {
        "id": "qXHYbcLkHBF3"
      },
      "outputs": [],
      "source": [
        "from xgboost import XGBClassifier\n",
        "from sklearn.metrics import accuracy_score"
      ]
    },
    {
      "cell_type": "code",
      "execution_count": null,
      "metadata": {
        "id": "cXaq8HztHBF3"
      },
      "outputs": [],
      "source": [
        "xgb_model = XGBClassifier(\n",
        "        silent=False,\n",
        "        scale_pos_weight=1,\n",
        "        learning_rate=0.01,\n",
        "        colsample_bytree = 1,\n",
        "        subsample = 0.8,\n",
        "        objective='multi:softprob',\n",
        "        n_estimators=1000,\n",
        "        reg_alpha = 0.3,\n",
        "        max_depth=5,\n",
        "        gamma=1)\n",
        "xgb_model.fit(X_train, y_train)"
      ]
    },
    {
      "cell_type": "code",
      "execution_count": null,
      "metadata": {
        "id": "tLsfwIZ3HBF3"
      },
      "outputs": [],
      "source": [
        "y_pred = xgb_model.predict(X_test)\n",
        "predictions = [round(value) for value in y_pred]"
      ]
    },
    {
      "cell_type": "code",
      "execution_count": null,
      "metadata": {
        "id": "W1Zc3WayHBF3"
      },
      "outputs": [],
      "source": [
        "accuracy = round(accuracy_score(y_test, predictions), 2)\n",
        "accuracy"
      ]
    },
    {
      "cell_type": "code",
      "execution_count": null,
      "metadata": {
        "id": "XyZpyPH0HBF4"
      },
      "outputs": [],
      "source": [
        "result = xgb_model.predict(test_data)\n",
        "result[0]"
      ]
    },
    {
      "cell_type": "code",
      "execution_count": null,
      "metadata": {
        "id": "5c0U7dXGHBF4"
      },
      "outputs": [],
      "source": [
        "print(X_test.tail())\n",
        "print(y_test.tail())"
      ]
    },
    {
      "cell_type": "code",
      "execution_count": null,
      "metadata": {
        "id": "KdUpTQqEHBF4"
      },
      "outputs": [],
      "source": [
        "# test model\n",
        "test_data1 = {\n",
        "    'fire_size': [5.0],\n",
        "    'remoteness': [0.250806],\n",
        "    'putout_time': [2.0]\n",
        "}\n",
        "test_data1 = pd.DataFrame(test_data1)\n",
        "test_data1"
      ]
    },
    {
      "cell_type": "code",
      "execution_count": null,
      "metadata": {
        "id": "Ku_fWNFIHBF4"
      },
      "outputs": [],
      "source": [
        "result1 = xgb_model.predict(test_data1)\n",
        "result1[0].astype('int')"
      ]
    }
  ]
}